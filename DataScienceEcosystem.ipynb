{
  "metadata": {
    "kernelspec": {
      "name": "python",
      "display_name": "Python (Pyodide)",
      "language": "python"
    },
    "language_info": {
      "codemirror_mode": {
        "name": "python",
        "version": 3
      },
      "file_extension": ".py",
      "mimetype": "text/x-python",
      "name": "python",
      "nbconvert_exporter": "python",
      "pygments_lexer": "ipython3",
      "version": "3.8"
    }
  },
  "nbformat_minor": 4,
  "nbformat": 4,
  "cells": [
    {
      "cell_type": "markdown",
      "source": "#Exercise 2: Create markdown cell with title of the notebook\n# Data Science Tools and Ecosystem\n\nIn this notebook, Data Science Tools and Ecosystems are summarized.\n\nSome of the popular languages that Data Scientists use are:\n\n 1. Python\n 2. SQL\n 3. R\n\nSome of the commonly used libraries used by Data Scientists include:\n\n 1. Pandas\n 2. Numpy\n 3. Keras\n 4. caret\n 5. ggplot\n 6. ggtitle\n 7. PyTorch\n\nData Science Tools|\n|:---------------:|\n|Jupyter Notebook|\n|RStudio|\n|Spark|\n\n### Below are a few examples of evaluating arithmetic expressions in Python\n    ",
      "metadata": {}
    },
    {
      "cell_type": "code",
      "source": "#This a simple arithmetic expression to multiply and then add integers\nprint((3*4)+5)\n# OR\n(3*4)+5",
      "metadata": {
        "trusted": true
      },
      "outputs": [
        {
          "name": "stdout",
          "text": "17\n",
          "output_type": "stream"
        },
        {
          "execution_count": 1,
          "output_type": "execute_result",
          "data": {
            "text/plain": "17"
          },
          "metadata": {}
        }
      ],
      "execution_count": 1
    },
    {
      "cell_type": "code",
      "source": "#This will convert 200 minutes to hours by diving by 60\nTotalmins = 200\nminsPerHour = 60\nhours = Totalmins/minsPerHour\nprint(str(hours)+ \" hours\")\n",
      "metadata": {
        "trusted": true
      },
      "outputs": [
        {
          "name": "stdout",
          "text": "3.3333333333333335 hours\n",
          "output_type": "stream"
        }
      ],
      "execution_count": 8
    },
    {
      "cell_type": "markdown",
      "source": "__Objectives:__\n\n - Python\n - R\n - SQL\n - Java\n - Julia\n## Author\n   SN",
      "metadata": {}
    },
    {
      "cell_type": "code",
      "source": "",
      "metadata": {
        "trusted": true
      },
      "outputs": [],
      "execution_count": null
    }
  ]
}